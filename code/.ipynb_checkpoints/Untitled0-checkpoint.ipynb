{
 "metadata": {
  "name": "",
  "signature": "sha256:1d2ec6b192efeecdf8982dff0b30db47b92f6cb9ac1401e0d6d66d88f07a9490"
 },
 "nbformat": 3,
 "nbformat_minor": 0,
 "worksheets": []
}