{
 "metadata": {
  "name": "",
  "signature": "sha256:e20c0bc7301fda47f5243a35bff01c9723ee92c39e98f237a1de3e72cf270108"
 },
 "nbformat": 3,
 "nbformat_minor": 0,
 "worksheets": [
  {
   "cells": [
    {
     "cell_type": "markdown",
     "metadata": {},
     "source": [
      "Problem Set 5"
     ]
    },
    {
     "cell_type": "markdown",
     "metadata": {},
     "source": [
      "Abigail Rodrigues"
     ]
    },
    {
     "cell_type": "code",
     "collapsed": false,
     "input": [
      "from __future__ import print_function, division\n",
      "\n",
      "import thinkdsp\n",
      "import thinkplot\n",
      "import thinkstats2\n",
      "import math\n",
      "import numpy\n",
      "\n",
      "%precision 3\n",
      "%matplotlib inline\n",
      "\n",
      "PI2 = 2 * math.pi"
     ],
     "language": "python",
     "metadata": {},
     "outputs": [],
     "prompt_number": 4
    },
    {
     "cell_type": "markdown",
     "metadata": {},
     "source": [
      "1) Following the example in chap07.ipynb, make a synthesis matrix (the IDFT matrix) using a different range of frequencies, and see what difference it makes.\n",
      "\n",
      "The usual version of IDFT uses frequencies 0 through N-1.  What happens if you go from N to 2N-1?"
     ]
    },
    {
     "cell_type": "code",
     "collapsed": false,
     "input": [
      "i = complex(0,1)\n",
      "N = 4\n",
      "ts = numpy.arange(N) / N\n",
      "freqs = numpy.arange(N)\n",
      "args = numpy.outer(ts, freqs)\n",
      "M = numpy.exp(i * PI2 * args)\n",
      "print(M)"
     ],
     "language": "python",
     "metadata": {},
     "outputs": [
      {
       "output_type": "stream",
       "stream": "stdout",
       "text": [
        "[[  1.000e+00 +0.000e+00j   1.000e+00 +0.000e+00j   1.000e+00 +0.000e+00j\n",
        "    1.000e+00 +0.000e+00j]\n",
        " [  1.000e+00 +0.000e+00j   6.123e-17 +1.000e+00j  -1.000e+00 +1.225e-16j\n",
        "   -1.837e-16 -1.000e+00j]\n",
        " [  1.000e+00 +0.000e+00j  -1.000e+00 +1.225e-16j   1.000e+00 -2.449e-16j\n",
        "   -1.000e+00 +3.674e-16j]\n",
        " [  1.000e+00 +0.000e+00j  -1.837e-16 -1.000e+00j  -1.000e+00 +3.674e-16j\n",
        "    5.511e-16 +1.000e+00j]]\n"
       ]
      }
     ],
     "prompt_number": 9
    },
    {
     "cell_type": "code",
     "collapsed": false,
     "input": [
      "N = 4\n",
      "ts = numpy.arange(N) / N\n",
      "freqs = numpy.arange(N,2*N)\n",
      "args = numpy.outer(ts, freqs)\n",
      "M = numpy.exp(i * PI2 * args)\n",
      "print(M)"
     ],
     "language": "python",
     "metadata": {},
     "outputs": [
      {
       "output_type": "stream",
       "stream": "stdout",
       "text": [
        "[[  1.000e+00 +0.000e+00j   1.000e+00 +0.000e+00j   1.000e+00 +0.000e+00j\n",
        "    1.000e+00 +0.000e+00j]\n",
        " [  1.000e+00 -2.449e-16j   3.062e-16 +1.000e+00j  -1.000e+00 +3.674e-16j\n",
        "   -4.286e-16 -1.000e+00j]\n",
        " [  1.000e+00 -4.898e-16j  -1.000e+00 +6.123e-16j   1.000e+00 -7.348e-16j\n",
        "   -1.000e+00 +8.572e-16j]\n",
        " [  1.000e+00 -7.348e-16j  -2.695e-15 -1.000e+00j  -1.000e+00 +1.102e-15j\n",
        "   -4.905e-16 +1.000e+00j]]\n"
       ]
      }
     ],
     "prompt_number": 10
    },
    {
     "cell_type": "markdown",
     "metadata": {},
     "source": [
      "2) In thinkdsp.py, the Spectrum methods low_pass and high_pass are ideal filters, in some sense: in the passband they are perfectly flat, and in the stopband they attenuate to 0 (or whatever value you want).\n",
      "\n",
      "Invoking the principle that for every filter there is a corresponding window, see if you can figure out what window corresponds to these ideal filters."
     ]
    },
    {
     "cell_type": "code",
     "collapsed": false,
     "input": [
      "sq_sig = thinkdsp.SquareSignal()\n",
      "sq_wave = sq_sig.make_wave(duration=10)\n",
      "sq_wave.plot()\n",
      "thinkplot.config(ylim=[0, 1.5], xlim=[0, 0.03])"
     ],
     "language": "python",
     "metadata": {},
     "outputs": [
      {
       "metadata": {},
       "output_type": "display_data",
       "png": "[encoded data removed]",
       "text": [
        "<matplotlib.figure.Figure at 0x7f716c8d5310>"
       ]
      }
     ],
     "prompt_number": 84
    },
    {
     "cell_type": "code",
     "collapsed": false,
     "input": [
      "sq_spec = sq_wave.make_spectrum()\n",
      "sq_spec.plot()"
     ],
     "language": "python",
     "metadata": {},
     "outputs": [
      {
       "metadata": {},
       "output_type": "display_data",
       "png": "[encoded data removed]",
       "text": [
        "<matplotlib.figure.Figure at 0x7f716c9cf110>"
       ]
      }
     ],
     "prompt_number": 85
    },
    {
     "cell_type": "code",
     "collapsed": false,
     "input": [
      "sq_low = sq_spec.low_pass(1000)\n",
      "# sq_low.make_wave()\n",
      "# sq_low.plot()"
     ],
     "language": "python",
     "metadata": {},
     "outputs": [],
     "prompt_number": 91
    },
    {
     "cell_type": "code",
     "collapsed": false,
     "input": [
      "sq_ham = sq_wave.hamming()\n",
      "print(sq_ham)\n",
      "# sq_ham = sq_wave.make_spectrum()\n",
      "# sq_ham.plot()\n",
      "# thinkplot.config(ylim=[0, 0.2], xlim=[0, 0.03])"
     ],
     "language": "python",
     "metadata": {},
     "outputs": [
      {
       "output_type": "stream",
       "stream": "stdout",
       "text": [
        "None\n"
       ]
      }
     ],
     "prompt_number": 81
    },
    {
     "cell_type": "markdown",
     "metadata": {},
     "source": [
      "3) So far we have focused attention on the effect filters have on the magnitude of each frequency component, but they also affect the phase offset.  For the boxcar and Gaussian windows, plot the phase shift as a function of frequency."
     ]
    },
    {
     "cell_type": "code",
     "collapsed": false,
     "input": [],
     "language": "python",
     "metadata": {},
     "outputs": []
    },
    {
     "cell_type": "markdown",
     "metadata": {},
     "source": [
      "4) Taking the difference of successive elements in a wave array has the same effect as convolution with the window [1, -1].  The filter for this\n",
      "window is an increasing function of f, so you can think of diff as a high-pass filter.\n",
      "\n",
      "One way to explain this behavior is that diff is a rough approximation of a derivative, and differentiation corresponds to a filter where amplitude is proportional to f.\n",
      "\n",
      "If we use a better approximation of a derivative, we might expect the corresponding filter to be a better approximation of a line.  The window [-1/2, 2, -3/2] is a second order forward difference approximation of the first derivative.  Compute its DFT and see what the filter looks like.\n",
      "\n",
      "Also try [1, -2, 1], which is approximates the second derivative.  What does the filter for the second derivative look like?  And how does that compare to the filter for this window?\n",
      "\n",
      "See also http://en.wikipedia.org/wiki/Finite_difference_coefficient"
     ]
    },
    {
     "cell_type": "code",
     "collapsed": false,
     "input": [],
     "language": "python",
     "metadata": {},
     "outputs": []
    },
    {
     "cell_type": "markdown",
     "metadata": {},
     "source": [
      "5) The gunshot recording I used in chap09.ipynb was clipped, which means that the loudest part gets cut off, which makes the rest of the sound seem louder than it should be, which exaggerates the reverb of the space.\n",
      "\n",
      "But it looks like there is a better version of this recording at http://www.freesound.org/people/Kleeb/sounds/180960/\n",
      "\n",
      "Use this recording to replace the one I used and see if it tones down the reverb a little.\n",
      "\n",
      "Also, apply the same effect to the saxophone recording."
     ]
    },
    {
     "cell_type": "code",
     "collapsed": false,
     "input": [],
     "language": "python",
     "metadata": {},
     "outputs": []
    },
    {
     "cell_type": "markdown",
     "metadata": {},
     "source": [
      "6) (Optional) Let's characterize the transfer function of a door two ways.\n",
      "\n",
      "a) Arrange one laptop on either side of a door.  On one laptop, generate white noise for about a second, with maximum volume.  On the other side, record what comes through the door.\n",
      "\n",
      "Compute the spectrums of the transmitted and received signals, and use them to estimate the transfer function.\n",
      "\n",
      "b) Do the same thing with the violin recording, the saxophone recording, or whatever else you like.\n",
      "\n",
      "Now use the transfer function you estimated to simulate the effect of the door on the recording, and compare the result to the actual effect of the door."
     ]
    },
    {
     "cell_type": "code",
     "collapsed": false,
     "input": [],
     "language": "python",
     "metadata": {},
     "outputs": []
    }
   ],
   "metadata": {}
  }
 ]
}